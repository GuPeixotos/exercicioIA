{
  "nbformat": 4,
  "nbformat_minor": 0,
  "metadata": {
    "colab": {
      "provenance": [],
      "authorship_tag": "ABX9TyMryY1sn1zSOsUpoMy/LnY2",
      "include_colab_link": true
    },
    "kernelspec": {
      "name": "python3",
      "display_name": "Python 3"
    },
    "language_info": {
      "name": "python"
    }
  },
  "cells": [
    {
      "cell_type": "markdown",
      "metadata": {
        "id": "view-in-github",
        "colab_type": "text"
      },
      "source": [
        "<a href=\"https://colab.research.google.com/github/GuPeixotos/exercicioIA/blob/main/exercicio1atv.ipynb\" target=\"_parent\"><img src=\"https://colab.research.google.com/assets/colab-badge.svg\" alt=\"Open In Colab\"/></a>"
      ]
    },
    {
      "cell_type": "code",
      "source": [
        "#INSTALAÇÕES\n",
        "\n",
        "!pip install chatterbot==1.0.5\n",
        "!pip install chatterbot_corpus==1.2.0\n",
        "!pip install transformers datasets torch\n",
        "!pip install git+https://github.com/gunthercox/ChatterBot.git@master"
      ],
      "metadata": {
        "id": "1RcjPRx3jBqr"
      },
      "execution_count": null,
      "outputs": []
    },
    {
      "cell_type": "code",
      "execution_count": null,
      "metadata": {
        "id": "G_QqQslliFOq"
      },
      "outputs": [],
      "source": [
        "#EXERCICIO 1\n",
        "\n",
        "from chatterbot import ChatBot\n",
        "from chatterbot.trainers import ListTrainer\n",
        "\n",
        "faq_bot = ChatBot(\n",
        "    'FAQBot',\n",
        "    storage_adapter='chatterbot.storage.SQLStorageAdapter',\n",
        "    logic_adapters=['chatterbot.logic.BestMatch']\n",
        ")\n",
        "\n",
        "faq_treinamento = [\n",
        "    \"Qual é o horário de funcionamento?\", \"Nosso horário é de segunda a sexta, das 9h às 18h.\",\n",
        "    \"Como faço para me inscrever?\", \"Você pode se inscrever através do nosso site, na seção de cadastro.\",\n",
        "    \"Quais cursos vocês oferecem?\", \"Oferecemos cursos de programação, design, marketing e administração.\",\n",
        "    \"O que é necessário para matrícula?\", \"É necessário preencher o formulário online e enviar os documentos.\",\n",
        "    \"Tem desconto para estudantes?\", \"Sim, oferecemos 10% de desconto para estudantes.\",\n",
        "    \"Qual é o valor da mensalidade?\", \"O valor depende do curso, geralmente entre R$200 e R$500.\",\n",
        "    \"Vocês oferecem certificado?\", \"Sim, todos os cursos possuem certificado ao final.\",\n",
        "    \"Posso cancelar a inscrição?\", \"Sim, você pode cancelar dentro de 7 dias com reembolso total.\",\n",
        "    \"O curso é presencial?\", \"Alguns cursos são presenciais e outros online.\",\n",
        "    \"Tem suporte durante o curso?\", \"Sim, oferecemos suporte por e-mail e chat.\",\n",
        "    \"Como posso pagar a mensalidade?\", \"Aceitamos cartão de crédito, boleto e PIX.\",\n",
        "    \"Existe prova de avaliação?\", \"Alguns cursos possuem provas, outros avaliações contínuas.\",\n",
        "    \"Quanto tempo dura cada curso?\", \"A duração varia entre 2 semanas e 6 meses.\",\n",
        "    \"Vocês oferecem estágio?\", \"Alguns cursos possuem parceria para estágio.\",\n",
        "    \"Posso fazer mais de um curso ao mesmo tempo?\", \"Sim, você pode se inscrever em múltiplos cursos.\",\n",
        "    \"Como recupero a senha do portal?\", \"Clique em 'Esqueci minha senha' na página de login.\",\n",
        "    \"O que fazer se o site não abrir?\", \"Tente limpar o cache do navegador ou acessar de outro navegador.\",\n",
        "    \"Os cursos têm suporte ao vivo?\", \"Alguns cursos oferecem sessões ao vivo, outros são gravados.\",\n",
        "    \"Vocês possuem cursos gratuitos?\", \"Sim, temos alguns cursos introdutórios gratuitos.\",\n",
        "    \"É possível transferir minha matrícula?\", \"Sim, entre em contato com o suporte.\",\n",
        "    \"Como recebo o certificado?\", \"O certificado é enviado por e-mail ao final do curso.\",\n",
        "    \"O curso é em português?\", \"Sim, todos os cursos são ministrados em português.\",\n",
        "    \"Vocês possuem aplicativo?\", \"Ainda não, todo o acesso é via web.\",\n",
        "    \"Como atualizar meus dados?\", \"Entre na sua conta e clique em 'Editar perfil'.\",\n",
        "    \"Posso assistir às aulas gravadas?\", \"Sim, todas as aulas ficam gravadas para revisão.\",\n",
        "    \"Tem limite de vagas?\", \"Sim, algumas turmas possuem limite de 30 alunos.\",\n",
        "    \"Como faço para tirar dúvidas?\", \"Use o chat interno ou envie um e-mail para suporte.\",\n",
        "    \"Vocês oferecem desconto para grupos?\", \"Sim, consulte o setor comercial.\",\n",
        "    \"Quais formas de pagamento são aceitas?\", \"Cartão, boleto bancário e PIX.\",\n",
        "    \"Tem política de reembolso?\", \"Sim, dentro de 7 dias após a matrícula.\",\n",
        "    \"Como recebo informações sobre novos cursos?\", \"Inscreva-se na nossa newsletter.\",\n",
        "    \"Os professores são qualificados?\", \"Sim, todos possuem experiência comprovada.\",\n",
        "    \"O curso possui material didático?\", \"Sim, disponibilizamos PDFs e slides.\",\n",
        "    \"Como faço para acessar o portal?\", \"Acesse www.nossoplataforma.com e faça login.\",\n",
        "    \"O curso é indicado para iniciantes?\", \"Sim, temos cursos para todos os níveis.\",\n",
        "    \"Posso fazer parte de grupos de estudo?\", \"Sim, oferecemos fóruns e grupos de discussão.\",\n",
        "    \"Como funciona o sistema de avaliação?\", \"Alguns cursos têm provas, outros exercícios práticos.\",\n",
        "    \"Existe certificado reconhecido?\", \"Sim, nossos certificados são válidos nacionalmente.\",\n",
        "    \"Como faço para receber nota fiscal?\", \"Solicite via e-mail após o pagamento.\",\n",
        "    \"Posso mudar de curso depois de matriculado?\", \"Sim, mediante disponibilidade e solicitação.\",\n",
        "    \"O site funciona no celular?\", \"Sim, o site é responsivo e funciona em smartphones.\",\n",
        "    \"Tem suporte técnico para problemas?\", \"Sim, suporte via chat e e-mail.\",\n",
        "    \"Como sei se fui aprovado?\", \"O resultado é enviado por e-mail ou disponível no portal.\",\n",
        "    \"Vocês oferecem mentorias?\", \"Alguns cursos possuem sessões de mentoria online.\",\n",
        "    \"Há exercícios práticos?\", \"Sim, a maioria dos cursos possui exercícios práticos.\",\n",
        "    \"Os cursos são atualizados?\", \"Sim, atualizamos os conteúdos regularmente.\" ,\n",
        "    \"Como acessar materiais extras?\", \"Os materiais extras ficam disponíveis na plataforma.\",\n",
        "    \"Posso baixar os conteúdos?\", \"Sim, alguns conteúdos podem ser baixados.\",\n",
        "    \"Existe certificado digital?\", \"Sim, todos os certificados são digitais.\",\n",
        "    \"Tem suporte fora do horário comercial?\", \"Sim, o chat é 24h com respostas automatizadas.\",\n",
        "    \"Os cursos possuem fórum de dúvidas?\", \"Sim, cada curso tem um fórum próprio.\",\n",
        "    \"Vocês oferecem cursos avançados?\", \"Sim, temos cursos intermediários e avançados.\",\n",
        "    \"Como faço para indicar um amigo?\", \"Envie o link de indicação disponível no portal.\",\n",
        "    \"Tem pré-requisito para os cursos?\", \"Alguns cursos exigem conhecimentos básicos, outros não.\"\n",
        "]\n",
        "\n",
        "trainer = ListTrainer(faq_bot)\n",
        "trainer.train(faq_treinamento)\n",
        "\n",
        "# Função de interação\n",
        "def conversar_faq():\n",
        "    print(\"Digite 'sair' para encerrar.\")\n",
        "    while True:\n",
        "        pergunta = input(\"Você: \")\n",
        "        if pergunta.lower() == \"sair\":\n",
        "            break\n",
        "        resposta = faq_bot.get_response(pergunta)\n",
        "        print(\"Bot:\", resposta)\n",
        "\n",
        "conversar_faq()"
      ]
    }
  ]
}