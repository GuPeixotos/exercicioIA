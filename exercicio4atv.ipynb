{
  "nbformat": 4,
  "nbformat_minor": 0,
  "metadata": {
    "colab": {
      "provenance": [],
      "authorship_tag": "ABX9TyNGYdbkK4+oJxIjq9v5Dc+O",
      "include_colab_link": true
    },
    "kernelspec": {
      "name": "python3",
      "display_name": "Python 3"
    },
    "language_info": {
      "name": "python"
    }
  },
  "cells": [
    {
      "cell_type": "markdown",
      "metadata": {
        "id": "view-in-github",
        "colab_type": "text"
      },
      "source": [
        "<a href=\"https://colab.research.google.com/github/GuPeixotos/exercicioIA/blob/main/exercicio4atv.ipynb\" target=\"_parent\"><img src=\"https://colab.research.google.com/assets/colab-badge.svg\" alt=\"Open In Colab\"/></a>"
      ]
    },
    {
      "cell_type": "code",
      "execution_count": null,
      "metadata": {
        "id": "WbTh3l7vq9uu"
      },
      "outputs": [],
      "source": [
        "#INSTALAÇÕES\n",
        "\n",
        "!pip install transformers\n",
        "!pip install torch"
      ]
    },
    {
      "cell_type": "code",
      "source": [
        "#EXERCICIO 4\n",
        "\n",
        "from transformers import AutoTokenizer, AutoModelForCausalLM\n",
        "\n",
        "model_name = \"pierreguillou/gpt2-small-portuguese\"\n",
        "tokenizer = AutoTokenizer.from_pretrained(model_name)\n",
        "model = AutoModelForCausalLM.from_pretrained(model_name)\n",
        "\n",
        "def gerar_resposta(prompt, max_length=50, do_sample=False, top_k=None, top_p=None, temperature=None):\n",
        "    inputs = tokenizer(prompt, return_tensors=\"pt\")\n",
        "    outputs = model.generate(\n",
        "        **inputs,\n",
        "        max_length=max_length,\n",
        "        do_sample=do_sample,\n",
        "        top_k=top_k,\n",
        "        top_p=top_p,\n",
        "        temperature=temperature,\n",
        "        pad_token_id=tokenizer.eos_token_id\n",
        "    )\n",
        "    return tokenizer.decode(outputs[0], skip_special_tokens=True)\n",
        "\n",
        "prompt_curto = \"Programação é\"\n",
        "resposta_curta = gerar_resposta(\n",
        "    prompt_curto,\n",
        "    max_length=50,\n",
        "    do_sample=False\n",
        ")\n",
        "print(\"Resposta curta/coerente:\\n\", resposta_curta)\n",
        "\n",
        "\n",
        "prompts_longos = [\n",
        "    \"Programação é\",\n",
        "    \"Um programa simples pode\",\n",
        "    \"Exemplo de código é\"\n",
        "]\n",
        "\n",
        "resposta_longa = \"\"\n",
        "for p in prompts_longos:\n",
        "    resp = gerar_resposta(p, max_length=50, do_sample=True, top_k=50, top_p=0.95, temperature=0.8)\n",
        "    resposta_longa += resp + \" \"\n",
        "\n",
        "print(\"\\nResposta longa/plausível:\\n\", resposta_longa.strip())\n"
      ],
      "metadata": {
        "id": "QyvrMWTgq_q9"
      },
      "execution_count": null,
      "outputs": []
    }
  ]
}