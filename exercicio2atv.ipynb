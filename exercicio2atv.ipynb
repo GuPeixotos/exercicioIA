{
  "nbformat": 4,
  "nbformat_minor": 0,
  "metadata": {
    "colab": {
      "provenance": [],
      "authorship_tag": "ABX9TyOjwZMGo2ht3hqmiIB82s2i",
      "include_colab_link": true
    },
    "kernelspec": {
      "name": "python3",
      "display_name": "Python 3"
    },
    "language_info": {
      "name": "python"
    }
  },
  "cells": [
    {
      "cell_type": "markdown",
      "metadata": {
        "id": "view-in-github",
        "colab_type": "text"
      },
      "source": [
        "<a href=\"https://colab.research.google.com/github/GuPeixotos/exercicioIA/blob/main/exercicio2atv.ipynb\" target=\"_parent\"><img src=\"https://colab.research.google.com/assets/colab-badge.svg\" alt=\"Open In Colab\"/></a>"
      ]
    },
    {
      "cell_type": "code",
      "execution_count": null,
      "metadata": {
        "id": "Kw6fuu02k99n"
      },
      "outputs": [],
      "source": [
        "#INSTALAÇÕES\n",
        "\n",
        "!pip install chatterbot==1.0.5\n",
        "!pip install chatterbot_corpus==1.2.0\n",
        "!pip install transformers datasets torch\n",
        "!pip install git+https://github.com/gunthercox/ChatterBot.git@master"
      ]
    },
    {
      "cell_type": "code",
      "source": [
        "#EXERCICIO 2\n",
        "\n",
        "from chatterbot import ChatBot\n",
        "from chatterbot.trainers import ChatterBotCorpusTrainer\n",
        "\n",
        "corpora_bot = ChatBot('CorporaBot', storage_adapter='chatterbot.storage.SQLStorageAdapter', logic_adapters=['chatterbot.logic.BestMatch'])\n",
        "\n",
        "trainer_corpora = ChatterBotCorpusTrainer(corpora_bot)\n",
        "trainer_corpora.train(\"chatterbot.corpus.portuguese\")\n",
        "\n",
        "def conversar_corpora():\n",
        "    print(\"Digite 'sair' para encerrar.\")\n",
        "    while True:\n",
        "        pergunta = input(\"Você: \")\n",
        "        if pergunta.lower() == \"sair\":\n",
        "            break\n",
        "        resposta = corpora_bot.get_response(pergunta)\n",
        "        print(\"Bot:\", resposta)\n",
        "\n",
        "conversar_corpora()"
      ],
      "metadata": {
        "id": "uFhBtlMclH4g"
      },
      "execution_count": null,
      "outputs": []
    }
  ]
}