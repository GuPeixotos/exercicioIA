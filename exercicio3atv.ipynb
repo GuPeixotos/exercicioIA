{
  "nbformat": 4,
  "nbformat_minor": 0,
  "metadata": {
    "colab": {
      "provenance": [],
      "authorship_tag": "ABX9TyOzBWiYDez+69qzyVperbe8",
      "include_colab_link": true
    },
    "kernelspec": {
      "name": "python3",
      "display_name": "Python 3"
    },
    "language_info": {
      "name": "python"
    }
  },
  "cells": [
    {
      "cell_type": "markdown",
      "metadata": {
        "id": "view-in-github",
        "colab_type": "text"
      },
      "source": [
        "<a href=\"https://colab.research.google.com/github/GuPeixotos/exercicioIA/blob/main/exercicio3atv.ipynb\" target=\"_parent\"><img src=\"https://colab.research.google.com/assets/colab-badge.svg\" alt=\"Open In Colab\"/></a>"
      ]
    },
    {
      "cell_type": "code",
      "execution_count": null,
      "metadata": {
        "id": "qY_65uc5oMRw"
      },
      "outputs": [],
      "source": [
        "#INSTALAÇÕES\n",
        "\n",
        "!pip install chatterbot==1.0.5\n",
        "!pip install chatterbot_corpus==1.2.0\n",
        "!pip install transformers datasets torch\n",
        "!pip install git+https://github.com/gunthercox/ChatterBot.git@master\n",
        "!pip install datasets==3.6.0"
      ]
    },
    {
      "cell_type": "code",
      "source": [
        "#EXERCICIO 3\n",
        "\n",
        "from datasets import load_dataset\n",
        "from chatterbot import ChatBot\n",
        "from chatterbot.trainers import ListTrainer\n",
        "\n",
        "dataset = load_dataset(\"daily_dialog\", split=\"train\")\n",
        "\n",
        "conversas_linearizadas = []\n",
        "for dialog in dataset:\n",
        "    for i in range(len(dialog['dialog']) - 1):\n",
        "        conversas_linearizadas.append(dialog['dialog'][i])\n",
        "        conversas_linearizadas.append(dialog['dialog'][i+1])\n",
        "\n",
        "daily_bot = ChatBot(\n",
        "    'DailyDialogBot',\n",
        "    storage_adapter='chatterbot.storage.SQLStorageAdapter',\n",
        "    logic_adapters=['chatterbot.logic.BestMatch']\n",
        ")\n",
        "\n",
        "trainer_daily = ListTrainer(daily_bot)\n",
        "trainer_daily.train(conversas_linearizadas[:1000])\n",
        "\n",
        "def conversar_daily():\n",
        "    print(\"Digite 'sair' para encerrar.\")\n",
        "    while True:\n",
        "        pergunta = input(\"Você: \")\n",
        "        if pergunta.lower() == \"sair\":\n",
        "            break\n",
        "        resposta = daily_bot.get_response(pergunta)\n",
        "        print(\"Bot:\", resposta)\n",
        "\n",
        "conversar_daily()"
      ],
      "metadata": {
        "id": "j1HEiNKRoMzh"
      },
      "execution_count": null,
      "outputs": []
    }
  ]
}